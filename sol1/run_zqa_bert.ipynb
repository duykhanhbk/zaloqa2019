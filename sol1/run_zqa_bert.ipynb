{
 "cells": [
  {
   "cell_type": "code",
   "execution_count": 46,
   "metadata": {},
   "outputs": [],
   "source": [
    "#1\n",
    "!python run_classifier_zqa_bert.py \\\n",
    "--task_name='zqa' \\\n",
    "--do_train=False \\\n",
    "--use_tpu=True \\\n",
    "--tpu_name=laammptv3 \\\n",
    "--do_eval=True \\\n",
    "--data_dir=gs://albertdatavi/zqa_data/full_testlabel_test \\\n",
    "--vocab_file=assests/vocab.txt \\\n",
    "--bert_config_file=gs://albertdatavi/multi_cased_L-12_H-768_A-12/bert_config.json \\\n",
    "--init_checkpoint=gs://albertdatavi/bertvi/b128/model.ckpt-20000 \\\n",
    "--max_seq_length=512 \\\n",
    "--train_batch_size=16 \\\n",
    "--predict_batch_size=8 \\\n",
    "--learning_rate=2e-5 \\\n",
    "--num_train_epochs=3.0 \\\n",
    "--output_dir=gs://albertdatavi/zqa_output/bertvi/vinews_sq512/ \\\n",
    "--do_predict=True \\\n",
    "--swap_input=False \\\n",
    "--do_lower_case=False \\\n",
    "--use_class_weights=False > logs/run_zqa/bert_base_b512_sq512_.txt 2>&1"
   ]
  },
  {
   "cell_type": "code",
   "execution_count": 49,
   "metadata": {},
   "outputs": [
    {
     "name": "stdout",
     "output_type": "stream",
     "text": [
      "Copying gs://albertdatavi/zqa_output/bertvi/vinews_sq512/test_results.tsv...\n",
      "/ [1 files][ 62.5 KiB/ 62.5 KiB]                                                \n",
      "Operation completed over 1 objects/62.5 KiB.                                     \n"
     ]
    }
   ],
   "source": [
    "!gsutil cp gs://albertdatavi/zqa_output/bertvi/vinews_sq512/test_results.tsv output/"
   ]
  },
  {
   "cell_type": "code",
   "execution_count": null,
   "metadata": {},
   "outputs": [],
   "source": [
    "!pwd"
   ]
  }
 ],
 "metadata": {
  "kernelspec": {
   "display_name": "Python 3",
   "language": "python",
   "name": "python3"
  },
  "language_info": {
   "codemirror_mode": {
    "name": "ipython",
    "version": 3
   },
   "file_extension": ".py",
   "mimetype": "text/x-python",
   "name": "python",
   "nbconvert_exporter": "python",
   "pygments_lexer": "ipython3",
   "version": "3.6.9"
  }
 },
 "nbformat": 4,
 "nbformat_minor": 4
}
